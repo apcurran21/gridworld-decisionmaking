{
 "cells": [
  {
   "cell_type": "code",
   "execution_count": 1,
   "id": "47af0bc3-d384-46e0-8483-53ebf3a0843b",
   "metadata": {},
   "outputs": [],
   "source": [
    "import sys\n",
    "import os\n",
    "\n",
    "# Add the directory containing your modules to the system path\n",
    "sys.path.insert(0, os.path.abspath('/projects/e32704/andy/decisionmaking/gridworld-decisionmaking/Simulation 2 Pseudo-Terrestrial/planning'))"
   ]
  },
  {
   "cell_type": "code",
   "execution_count": 78,
   "id": "275c3df8-00d0-4e10-85ca-e578c63828c5",
   "metadata": {},
   "outputs": [],
   "source": [
    "import pickle as pkl\n",
    "import pandas as pd\n",
    "import numpy as np\n",
    "\n",
    "from game import Game\n",
    "from simulator import Knowledge\n",
    "from mcts import SearchParams, UnitTestMCTS\n",
    "from experiment import ExperimentParams, Experiment\n",
    "from entropy import UnitTestENTROPY\n",
    "from utils import UnitTestUTILS, Random\n",
    "from coord import COORD, UnitTestCOORD, COMPASS, ManhattanDistance, Compass, LineCoordinates\n",
    "from grid import Grid\n",
    "from entropy import Entropy\n",
    "from astar import AStar\n",
    "from math import floor\n",
    "from time import time"
   ]
  },
  {
   "cell_type": "code",
   "execution_count": 3,
   "id": "2fb7fdeb-96ef-44d7-8bdc-6f0bcde8a005",
   "metadata": {},
   "outputs": [],
   "source": [
    "init_vars_path = \"/projects/e32704/andy/decisionmaking/gridworld-results/initial_test/init_vars.pkl\""
   ]
  },
  {
   "cell_type": "code",
   "execution_count": 5,
   "id": "6e82f1f1-ad0f-4f97-b8fb-c1eb6058d8b1",
   "metadata": {},
   "outputs": [],
   "source": [
    "with open(init_vars_path, 'rb') as f:\n",
    "    init_vars = pkl.load(f)"
   ]
  },
  {
   "cell_type": "code",
   "execution_count": 9,
   "id": "9a71d3ef-5961-44d6-9238-4a1dcdcc0b82",
   "metadata": {},
   "outputs": [
    {
     "data": {
      "text/plain": [
       "list"
      ]
     },
     "execution_count": 9,
     "metadata": {},
     "output_type": "execute_result"
    }
   ],
   "source": [
    "type(init_vars)"
   ]
  },
  {
   "cell_type": "code",
   "execution_count": 10,
   "id": "3393d41a-cef7-4544-af57-a5faee71fccb",
   "metadata": {},
   "outputs": [
    {
     "data": {
      "text/plain": [
       "2"
      ]
     },
     "execution_count": 10,
     "metadata": {},
     "output_type": "execute_result"
    }
   ],
   "source": [
    "len(init_vars)"
   ]
  },
  {
   "cell_type": "code",
   "execution_count": 12,
   "id": "9afe9a10-b0c3-4a6c-887b-4a23ab6b0bbc",
   "metadata": {},
   "outputs": [
    {
     "data": {
      "text/plain": [
       "list"
      ]
     },
     "execution_count": 12,
     "metadata": {},
     "output_type": "execute_result"
    }
   ],
   "source": [
    "type(init_vars[0])"
   ]
  },
  {
   "cell_type": "code",
   "execution_count": 13,
   "id": "24fbebd8-47bd-49cf-8317-bdbc78cb48c7",
   "metadata": {},
   "outputs": [
    {
     "data": {
      "text/plain": [
       "list"
      ]
     },
     "execution_count": 13,
     "metadata": {},
     "output_type": "execute_result"
    }
   ],
   "source": [
    "type(init_vars[1])"
   ]
  },
  {
   "cell_type": "code",
   "execution_count": 14,
   "id": "17ec86bd-283e-4e51-aa32-5d4551522388",
   "metadata": {},
   "outputs": [
    {
     "data": {
      "text/plain": [
       "20"
      ]
     },
     "execution_count": 14,
     "metadata": {},
     "output_type": "execute_result"
    }
   ],
   "source": [
    "len(init_vars[0])"
   ]
  },
  {
   "cell_type": "code",
   "execution_count": 15,
   "id": "89e48898-1036-4e0f-ad70-6f2f86d540f4",
   "metadata": {},
   "outputs": [
    {
     "data": {
      "text/plain": [
       "20"
      ]
     },
     "execution_count": 15,
     "metadata": {},
     "output_type": "execute_result"
    }
   ],
   "source": [
    "len(init_vars[1])"
   ]
  },
  {
   "cell_type": "code",
   "execution_count": 17,
   "id": "963e09b2-178d-488d-b87e-0928fbe91ad0",
   "metadata": {},
   "outputs": [
    {
     "data": {
      "text/plain": [
       "list"
      ]
     },
     "execution_count": 17,
     "metadata": {},
     "output_type": "execute_result"
    }
   ],
   "source": [
    "type(init_vars[0][0])"
   ]
  },
  {
   "cell_type": "code",
   "execution_count": 19,
   "id": "1da2a19e-1126-404f-8219-2150ef22e42d",
   "metadata": {},
   "outputs": [
    {
     "data": {
      "text/plain": [
       "10"
      ]
     },
     "execution_count": 19,
     "metadata": {},
     "output_type": "execute_result"
    }
   ],
   "source": [
    "len(init_vars[0][0])"
   ]
  },
  {
   "cell_type": "code",
   "execution_count": 20,
   "id": "dcabea3a-b618-4612-bee8-f3c5f5ee0e3d",
   "metadata": {},
   "outputs": [
    {
     "data": {
      "text/plain": [
       "[]"
      ]
     },
     "execution_count": 20,
     "metadata": {},
     "output_type": "execute_result"
    }
   ],
   "source": [
    "init_vars[0][0][0]"
   ]
  },
  {
   "cell_type": "code",
   "execution_count": 21,
   "id": "8ffb84a0-b8ea-4d6d-a821-0a8edcc75348",
   "metadata": {},
   "outputs": [
    {
     "data": {
      "text/plain": [
       "[<coord.COORD at 0x7fab49f4c0d0>,\n",
       " <coord.COORD at 0x7fa97290f490>,\n",
       " <coord.COORD at 0x7fa9724e1890>]"
      ]
     },
     "execution_count": 21,
     "metadata": {},
     "output_type": "execute_result"
    }
   ],
   "source": [
    "init_vars[0][0][1]"
   ]
  },
  {
   "cell_type": "code",
   "execution_count": 22,
   "id": "0269a8d2-4835-4ee7-b536-518e5fefb132",
   "metadata": {
    "scrolled": true
   },
   "outputs": [
    {
     "data": {
      "text/plain": [
       "[<coord.COORD at 0x7fa971e17bd0>,\n",
       " <coord.COORD at 0x7fa971e17990>,\n",
       " <coord.COORD at 0x7fa971cfcdd0>,\n",
       " <coord.COORD at 0x7fa971cfd850>,\n",
       " <coord.COORD at 0x7fa971cfd610>,\n",
       " <coord.COORD at 0x7fa971cfd9d0>,\n",
       " <coord.COORD at 0x7fa971cfdd10>,\n",
       " <coord.COORD at 0x7fa971cfdd50>,\n",
       " <coord.COORD at 0x7fa971cfdd90>]"
      ]
     },
     "execution_count": 22,
     "metadata": {},
     "output_type": "execute_result"
    }
   ],
   "source": [
    "init_vars[0][0][2]"
   ]
  },
  {
   "cell_type": "code",
   "execution_count": 28,
   "id": "56465374-8598-4637-bc3b-426ff74cb6a7",
   "metadata": {},
   "outputs": [
    {
     "name": "stdout",
     "output_type": "stream",
     "text": [
      "True\n",
      "False\n",
      "False\n",
      "False\n",
      "False\n",
      "False\n",
      "False\n",
      "False\n",
      "False\n"
     ]
    }
   ],
   "source": [
    "for i, val in enumerate(init_vars[0][0]):\n",
    "    # print(type(val))\n",
    "    # print(len(val))\n",
    "    if len(val) > 0:\n",
    "        # print(val[1])\n",
    "        print(len(val) == len(set(val)))"
   ]
  },
  {
   "cell_type": "markdown",
   "id": "f21aa3c7-44d6-428a-bc6c-eb6af9d7d4d8",
   "metadata": {},
   "source": [
    "My guess is that `init_vars[0][0]` specifies the occlusions for an environment. Specifically, I believe that the second index specifies occlusions - the first index is likely some other high-level factor, since there are only two items at the first index."
   ]
  },
  {
   "cell_type": "markdown",
   "id": "e9f91738-af9e-4f0e-a144-d14a547f6bff",
   "metadata": {},
   "source": [
    "### Step through construction logic"
   ]
  },
  {
   "cell_type": "code",
   "execution_count": 6,
   "id": "e02ab0fa-247e-4c64-af63-1a7f501c3c6f",
   "metadata": {},
   "outputs": [],
   "source": [
    "XSize = 15\n",
    "YSize = 15\n",
    "AgentHome = COORD(7, 0)\n",
    "GoalPos = COORD(floor(XSize/2), YSize-1)\n",
    "visualRange = None"
   ]
  },
  {
   "cell_type": "code",
   "execution_count": 58,
   "id": "1f90e8ec-30a6-4b5b-bb8c-9f3e6fc1d165",
   "metadata": {},
   "outputs": [],
   "source": [
    "def VisualCone(self, coord, visualRange):\n",
    "    temp = []\n",
    "    for dec in range(visualRange):\n",
    "        temp.append(coord[dec, dec:(2 * visualRange - dec) + 1])\n",
    "    return [y for x in temp for y in x]  # if self.Inside(y)]"
   ]
  },
  {
   "cell_type": "code",
   "execution_count": 65,
   "id": "5d38db69-cd09-4ee6-8364-24e4385fbfed",
   "metadata": {},
   "outputs": [],
   "source": [
    "def VisualArea(self, coord, observationDirection, visualRange, pureVision=False):\n",
    "    RadiusCoordinates = []\n",
    "    for x in range(coord.X - visualRange, coord.X + visualRange + 1):\n",
    "        for y in range(coord.Y - visualRange, coord.Y + visualRange + 1):\n",
    "            if (ManhattanDistance(COORD(x, y), coord) <= 2 * visualRange):\n",
    "                RadiusCoordinates.append(COORD(x, y))\n",
    "\n",
    "    RangeCoordinates = []\n",
    "    RadiusCoordinates = np.flipud(\n",
    "        np.reshape(np.array(RadiusCoordinates), (2 * visualRange + 1, 2 * visualRange + 1)).transpose())\n",
    "    if observationDirection == COMPASS.NORTH:\n",
    "        RangeCoordinates = self.VisualCone(RadiusCoordinates, visualRange)\n",
    "\n",
    "    elif observationDirection == COMPASS.EAST:\n",
    "        RadiusCoordinates = np.flipud(RadiusCoordinates.transpose())\n",
    "        RangeCoordinates = self.VisualCone(RadiusCoordinates, visualRange)\n",
    "\n",
    "    elif observationDirection == COMPASS.WEST:\n",
    "        RadiusCoordinates = RadiusCoordinates.transpose()\n",
    "        RangeCoordinates = self.VisualCone(RadiusCoordinates, visualRange)\n",
    "\n",
    "    elif observationDirection == COMPASS.SOUTH:\n",
    "        RadiusCoordinates = np.flipud(RadiusCoordinates)\n",
    "        RangeCoordinates = self.VisualCone(RadiusCoordinates, visualRange)\n",
    "\n",
    "    assert (RangeCoordinates)\n",
    "\n",
    "    if pureVision:\n",
    "        return RangeCoordinates\n",
    "\n",
    "    for a in range(4):\n",
    "        sidePos = coord + Compass[a]\n",
    "        if sidePos not in RangeCoordinates:\n",
    "            RangeCoordinates.append(sidePos)\n",
    "\n",
    "    return RangeCoordinates"
   ]
  },
  {
   "cell_type": "code",
   "execution_count": null,
   "id": "fc04d4e4-955a-4e2c-aec5-d4c338e1be67",
   "metadata": {},
   "outputs": [],
   "source": []
  },
  {
   "cell_type": "code",
   "execution_count": 79,
   "id": "663240c8-3331-4ca9-8826-dabffb1b23c5",
   "metadata": {},
   "outputs": [
    {
     "name": "stdout",
     "output_type": "stream",
     "text": [
      "2 -5\n",
      "2 -4\n",
      "2 -3\n",
      "2 -2\n",
      "2 -1\n",
      "2 0\n",
      "2 1\n",
      "2 2\n",
      "2 3\n",
      "2 4\n",
      "2 5\n",
      "3 -5\n",
      "3 -4\n",
      "3 -3\n",
      "3 -2\n",
      "3 -1\n",
      "3 0\n",
      "3 1\n",
      "3 2\n",
      "3 3\n",
      "3 4\n",
      "3 5\n",
      "4 -5\n",
      "4 -4\n",
      "4 -3\n",
      "4 -2\n",
      "4 -1\n",
      "4 0\n",
      "4 1\n",
      "4 2\n",
      "4 3\n",
      "4 4\n",
      "4 5\n",
      "5 -5\n",
      "5 -4\n",
      "5 -3\n",
      "5 -2\n",
      "5 -1\n",
      "5 0\n",
      "5 1\n",
      "5 2\n",
      "5 3\n",
      "5 4\n",
      "5 5\n",
      "6 -5\n",
      "6 -4\n",
      "6 -3\n",
      "6 -2\n",
      "6 -1\n",
      "6 0\n",
      "6 1\n",
      "6 2\n",
      "6 3\n",
      "6 4\n",
      "6 5\n",
      "7 -5\n",
      "7 -4\n",
      "7 -3\n",
      "7 -2\n",
      "7 -1\n",
      "7 0\n",
      "7 1\n",
      "7 2\n",
      "7 3\n",
      "7 4\n",
      "7 5\n",
      "8 -5\n",
      "8 -4\n",
      "8 -3\n",
      "8 -2\n",
      "8 -1\n",
      "8 0\n",
      "8 1\n",
      "8 2\n",
      "8 3\n",
      "8 4\n",
      "8 5\n",
      "9 -5\n",
      "9 -4\n",
      "9 -3\n",
      "9 -2\n",
      "9 -1\n",
      "9 0\n",
      "9 1\n",
      "9 2\n",
      "9 3\n",
      "9 4\n",
      "9 5\n",
      "10 -5\n",
      "10 -4\n",
      "10 -3\n",
      "10 -2\n",
      "10 -1\n",
      "10 0\n",
      "10 1\n",
      "10 2\n",
      "10 3\n",
      "10 4\n",
      "10 5\n",
      "11 -5\n",
      "11 -4\n",
      "11 -3\n",
      "11 -2\n",
      "11 -1\n",
      "11 0\n",
      "11 1\n",
      "11 2\n",
      "11 3\n",
      "11 4\n",
      "11 5\n",
      "12 -5\n",
      "12 -4\n",
      "12 -3\n",
      "12 -2\n",
      "12 -1\n",
      "12 0\n",
      "12 1\n",
      "12 2\n",
      "12 3\n",
      "12 4\n",
      "12 5\n"
     ]
    }
   ],
   "source": [
    "observationDirection = COMPASS.NORTH\n",
    "RadiusCoordinates = []\n",
    "for x in range(coord.X - visualRange, coord.X + visualRange + 1):\n",
    "    for y in range(coord.Y - visualRange, coord.Y + visualRange + 1):\n",
    "        print(x, y)\n",
    "        if (ManhattanDistance(COORD(x, y), coord) <= 2 * visualRange):\n",
    "            RadiusCoordinates.append(COORD(x, y))\n",
    "\n",
    "# RangeCoordinates = []\n",
    "# RadiusCoordinates = np.flipud(\n",
    "#     np.reshape(np.array(RadiusCoordinates), (2 * visualRange + 1, 2 * visualRange + 1)).transpose())\n",
    "# if observationDirection == COMPASS.NORTH:\n",
    "#     RangeCoordinates = self.VisualCone(RadiusCoordinates, visualRange)\n",
    "\n",
    "# elif observationDirection == COMPASS.EAST:\n",
    "#     RadiusCoordinates = np.flipud(RadiusCoordinates.transpose())\n",
    "#     RangeCoordinates = self.VisualCone(RadiusCoordinates, visualRange)\n",
    "\n",
    "# elif observationDirection == COMPASS.WEST:\n",
    "#     RadiusCoordinates = RadiusCoordinates.transpose()\n",
    "#     RangeCoordinates = self.VisualCone(RadiusCoordinates, visualRange)\n",
    "\n",
    "# elif observationDirection == COMPASS.SOUTH:\n",
    "#     RadiusCoordinates = np.flipud(RadiusCoordinates)\n",
    "#     RangeCoordinates = self.VisualCone(RadiusCoordinates, visualRange)\n",
    "\n",
    "# assert (RangeCoordinates)\n",
    "\n",
    "# if pureVision:\n",
    "#     return RangeCoordinates\n",
    "\n",
    "# for a in range(4):\n",
    "#     sidePos = coord + Compass[a]\n",
    "#     if sidePos not in RangeCoordinates:\n",
    "#         RangeCoordinates.append(sidePos)\n",
    "\n",
    "# return RangeCoordinates"
   ]
  },
  {
   "cell_type": "code",
   "execution_count": null,
   "id": "6eb5b027-6ab9-41a2-bb9c-2e48203f8fe3",
   "metadata": {},
   "outputs": [],
   "source": []
  },
  {
   "cell_type": "code",
   "execution_count": 60,
   "id": "d0a1f0bb-184a-4fc2-bd17-c3ac923f4ee2",
   "metadata": {},
   "outputs": [],
   "source": [
    "visualRange = 5"
   ]
  },
  {
   "cell_type": "code",
   "execution_count": 62,
   "id": "45ab801b-4e34-43b9-999f-a1b219476a8c",
   "metadata": {},
   "outputs": [],
   "source": [
    "coord = AgentHome"
   ]
  },
  {
   "cell_type": "code",
   "execution_count": 63,
   "id": "2df76954-291d-4914-a353-c76812ed0e1f",
   "metadata": {},
   "outputs": [
    {
     "ename": "TypeError",
     "evalue": "'COORD' object is not subscriptable",
     "output_type": "error",
     "traceback": [
      "\u001b[0;31m---------------------------------------------------------------------------\u001b[0m",
      "\u001b[0;31mTypeError\u001b[0m                                 Traceback (most recent call last)",
      "Cell \u001b[0;32mIn[63], line 3\u001b[0m\n\u001b[1;32m      1\u001b[0m temp \u001b[38;5;241m=\u001b[39m []\n\u001b[1;32m      2\u001b[0m \u001b[38;5;28;01mfor\u001b[39;00m dec \u001b[38;5;129;01min\u001b[39;00m \u001b[38;5;28mrange\u001b[39m(visualRange):\n\u001b[0;32m----> 3\u001b[0m     temp\u001b[38;5;241m.\u001b[39mappend(\u001b[43mcoord\u001b[49m\u001b[43m[\u001b[49m\u001b[43mdec\u001b[49m\u001b[43m,\u001b[49m\u001b[43m \u001b[49m\u001b[43mdec\u001b[49m\u001b[43m:\u001b[49m\u001b[43m(\u001b[49m\u001b[38;5;241;43m2\u001b[39;49m\u001b[43m \u001b[49m\u001b[38;5;241;43m*\u001b[39;49m\u001b[43m \u001b[49m\u001b[43mvisualRange\u001b[49m\u001b[43m \u001b[49m\u001b[38;5;241;43m-\u001b[39;49m\u001b[43m \u001b[49m\u001b[43mdec\u001b[49m\u001b[43m)\u001b[49m\u001b[43m \u001b[49m\u001b[38;5;241;43m+\u001b[39;49m\u001b[43m \u001b[49m\u001b[38;5;241;43m1\u001b[39;49m\u001b[43m]\u001b[49m)\n\u001b[1;32m      4\u001b[0m \u001b[38;5;28;01mreturn\u001b[39;00m [y \u001b[38;5;28;01mfor\u001b[39;00m x \u001b[38;5;129;01min\u001b[39;00m temp \u001b[38;5;28;01mfor\u001b[39;00m y \u001b[38;5;129;01min\u001b[39;00m x]  \u001b[38;5;66;03m# if self.Inside(y)]\u001b[39;00m\n",
      "\u001b[0;31mTypeError\u001b[0m: 'COORD' object is not subscriptable"
     ]
    }
   ],
   "source": [
    "temp = []\n",
    "for dec in range(visualRange):\n",
    "    temp.append(coord[dec, dec:(2 * visualRange - dec) + 1])\n",
    "return [y for x in temp for y in x]  # if self.Inside(y)]"
   ]
  },
  {
   "cell_type": "code",
   "execution_count": 43,
   "id": "620a7ef3-9a10-4219-8dd3-62a5de386fa1",
   "metadata": {},
   "outputs": [],
   "source": [
    "occlusions = Grid(XSize, YSize).CreateOcclusions(numOcclusions, AgentHome, GoalPos)"
   ]
  },
  {
   "cell_type": "code",
   "execution_count": 7,
   "id": "496b38b5-8709-435c-b7fa-9f14350a30f5",
   "metadata": {},
   "outputs": [],
   "source": [
    "def GetEntropy(occlusions):\n",
    "    I = np.zeros((XSize, YSize))\n",
    "    for coord in occlusions:\n",
    "        I[coord.X, coord.Y] = 1\n",
    "    entropy = Entropy(I)\n",
    "    outputMatrix = entropy.MovingWindowFilter(entropy.MovingAverage, 1)\n",
    "    filteredMatrices = [outputMatrix]\n",
    "    profile = entropy.Profile(filteredMatrices)\n",
    "\n",
    "    return profile"
   ]
  },
  {
   "cell_type": "code",
   "execution_count": 11,
   "id": "c02e11d1-a855-490f-b132-16609548cf39",
   "metadata": {},
   "outputs": [],
   "source": [
    "def GetPath(occlusions):\n",
    "    ASTAR = AStar(XSize, YSize, occlusions)\n",
    "    ASTAR.InitializeGrid(AgentHome, GoalPos)\n",
    "    path = ASTAR.Solve()\n",
    "\n",
    "    return path"
   ]
  },
  {
   "cell_type": "code",
   "execution_count": 12,
   "id": "bf7d05e9-6dbb-48ae-b9c8-3d46d15a2ea7",
   "metadata": {},
   "outputs": [],
   "source": [
    "occlusionList = [[[] for occlusionInd in ExperimentParams.EntropyLevels]\n",
    "                        for simulationInd in range(ExperimentParams.NumRuns)]\n",
    "predatorList = [[[] for occlusionInd in ExperimentParams.EntropyLevels]\n",
    "                 for simulationInd in range(ExperimentParams.NumRuns)]\n",
    "for simulationInd in range(ExperimentParams.NumRuns):\n",
    "    for i, entropyValue in enumerate(ExperimentParams.EntropyLevels):\n",
    "        while True and entropyValue < .8:\n",
    "            numOcclusions = 0\n",
    "            occlusions = Grid(XSize, YSize).CreateOcclusions(numOcclusions, AgentHome, GoalPos)\n",
    "            while GetEntropy(occlusions)[0] < entropyValue:\n",
    "                #entropyMatrix = GetEntropy(occlusions)[0]\n",
    "                #if entropyMatrix >= entropyValue:\n",
    "                #    break\n",
    "                occlusions = Grid(XSize, YSize).CreateOcclusions(numOcclusions, AgentHome, GoalPos)\n",
    "                numOcclusions += 1\n",
    "            path = GetPath(occlusions)\n",
    "            if path:\n",
    "                occlusionList[simulationInd][i] = occlusions\n",
    "                break\n",
    "\n",
    "        while True and entropyValue >= .8:\n",
    "            numOcclusions = 20\n",
    "            occlusions = Grid(XSize, YSize).CreateRandomOcclusions(numOcclusions, AgentHome, GoalPos)\n",
    "            while GetEntropy(occlusions)[0] < entropyValue:\n",
    "                occlusions = Grid(XSize, YSize).CreateOcclusions(numOcclusions, AgentHome, GoalPos)\n",
    "                numOcclusions += 1\n",
    "\n",
    "            path = GetPath(occlusions)\n",
    "            if path:\n",
    "                occlusionList[simulationInd][i] = occlusions\n",
    "                break\n",
    "\n",
    "        allPredatorLocations = Grid(XSize, YSize).CreatePredatorLocations(ExperimentParams.SpawnArea, AgentHome,\n",
    "                                                                  GoalPos,occlusions)\n",
    "\n",
    "        temp_predator = [allPredatorLocations[Random(0, len(allPredatorLocations))]\n",
    "                             for p in range(ExperimentParams.NumPredators)]\n",
    "        predatorList[simulationInd][i] = temp_predator"
   ]
  },
  {
   "cell_type": "code",
   "execution_count": null,
   "id": "7d98db33-e77f-4e52-97e9-62cd72eae4d9",
   "metadata": {},
   "outputs": [],
   "source": []
  },
  {
   "cell_type": "code",
   "execution_count": null,
   "id": "574c88ec-b317-4e73-a07a-937ed34955bd",
   "metadata": {},
   "outputs": [],
   "source": []
  },
  {
   "cell_type": "markdown",
   "id": "59d28fba-2d79-4d84-854c-93266d32fccd",
   "metadata": {},
   "source": [
    "### Notes\n",
    "\n",
    "Each of `occlusionList` and `predatorList` is a list, and specifically a 2d list where the outer list represents the number of simulation runs (`ExperimentParams.NumRuns`, 20 runs) and the inner list represents different entropy levels (`ExperimentParams.EntropyLevels`, 10 levels).\n",
    "\n",
    "A unique set of occlusions is generated for \n",
    "\n",
    "\n",
    "\n",
    "* index 0 corresponds with two lists - 0 is the occlusionList, and 1 is the predatorList\n",
    "* "
   ]
  },
  {
   "cell_type": "code",
   "execution_count": null,
   "id": "6e108575-3b51-4484-add8-d09efdd849d4",
   "metadata": {},
   "outputs": [],
   "source": []
  }
 ],
 "metadata": {
  "kernelspec": {
   "display_name": "Python (research)",
   "language": "python",
   "name": "research"
  },
  "language_info": {
   "codemirror_mode": {
    "name": "ipython",
    "version": 3
   },
   "file_extension": ".py",
   "mimetype": "text/x-python",
   "name": "python",
   "nbconvert_exporter": "python",
   "pygments_lexer": "ipython3",
   "version": "3.11.9"
  }
 },
 "nbformat": 4,
 "nbformat_minor": 5
}
