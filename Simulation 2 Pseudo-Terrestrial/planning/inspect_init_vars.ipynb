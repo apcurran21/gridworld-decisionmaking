{
 "cells": [
  {
   "cell_type": "code",
   "execution_count": 1,
   "id": "47af0bc3-d384-46e0-8483-53ebf3a0843b",
   "metadata": {},
   "outputs": [],
   "source": [
    "import sys\n",
    "import os\n",
    "\n",
    "# Add the directory containing your modules to the system path\n",
    "sys.path.insert(0, os.path.abspath('/projects/e32704/andy/decisionmaking/gridworld-decisionmaking/Simulation 2 Pseudo-Terrestrial/planning'))"
   ]
  },
  {
   "cell_type": "code",
   "execution_count": 2,
   "id": "275c3df8-00d0-4e10-85ca-e578c63828c5",
   "metadata": {},
   "outputs": [],
   "source": [
    "import pickle as pkl\n",
    "import pandas as pd\n",
    "import numpy as np"
   ]
  },
  {
   "cell_type": "code",
   "execution_count": 3,
   "id": "d3e662d7-d11c-41f6-ae7a-3fcd1a297e5b",
   "metadata": {},
   "outputs": [],
   "source": [
    "from game import Game\n",
    "from simulator import Knowledge\n",
    "from mcts import SearchParams, UnitTestMCTS\n",
    "from experiment import ExperimentParams, ExperimentParamsOld, Experiment\n",
    "from entropy import UnitTestENTROPY\n",
    "from utils import UnitTestUTILS, Random\n",
    "from coord import COORD, UnitTestCOORD, COMPASS, ManhattanDistance, Compass, LineCoordinates\n",
    "from grid import Grid\n",
    "from entropy import Entropy\n",
    "from astar import AStar\n",
    "from math import floor\n",
    "from time import time"
   ]
  },
  {
   "cell_type": "code",
   "execution_count": 4,
   "id": "9dc0b3a1-44fc-4594-9cd8-f1b9596ce085",
   "metadata": {},
   "outputs": [],
   "source": [
    "def GetPath(occlusions):\n",
    "    ASTAR = AStar(XSize, YSize, occlusions)\n",
    "    ASTAR.InitializeGrid(AgentHome, GoalPos)\n",
    "    path = ASTAR.Solve()\n",
    "\n",
    "    return path\n",
    "\n",
    "def GetEntropy(occlusions):\n",
    "    I = np.zeros((XSize, YSize))\n",
    "    for coord in occlusions:\n",
    "        I[coord.X, coord.Y] = 1\n",
    "    entropy = Entropy(I)\n",
    "    outputMatrix = entropy.MovingWindowFilter(entropy.MovingAverage, 1)\n",
    "    filteredMatrices = [outputMatrix]\n",
    "    profile = entropy.Profile(filteredMatrices)\n",
    "\n",
    "    return profile\n"
   ]
  },
  {
   "cell_type": "markdown",
   "id": "c0a89efa-0bc4-40f3-adfe-d576e0e0140f",
   "metadata": {},
   "source": [
    "## 3/17 Examinations"
   ]
  },
  {
   "cell_type": "markdown",
   "id": "2f49353b-4355-4a2a-b286-9a931ff0569b",
   "metadata": {},
   "source": [
    "```python\n",
    "class ExperimentParamsOld:\n",
    "    SpawnArea = 4\n",
    "    NumRuns = 20\n",
    "    NumPredators = 5\n",
    "    NumSteps = 200\n",
    "    SimSteps = 1000\n",
    "    TimeOut = 36000\n",
    "    MinDoubles = 0\n",
    "    MaxDoubles = 50\n",
    "    TransformDoubles = -1\n",
    "    TransformAttempts = 1000\n",
    "    Accuracy = 0.01\n",
    "    UndiscountedHorizon = 100\n",
    "    AutoExploration = True\n",
    "    EntropyLevels = [float(i)/10. for i in range(0, 10)]\n",
    "    Depth = [100, 1000, 5000]\n",
    "```"
   ]
  },
  {
   "cell_type": "code",
   "execution_count": 5,
   "id": "d543b584-faf7-474b-841b-9d1e9ff0aece",
   "metadata": {},
   "outputs": [],
   "source": [
    "XSize = 15\n",
    "YSize = 15\n",
    "AgentHome = COORD(7, 0)\n",
    "GoalPos = COORD(floor(XSize/2), YSize-1)\n",
    "visualRange = None\n",
    "\n",
    "\n",
    "treeknowlege = 2 # 0 = pure, 1 = legal, 2 = smart\n",
    "rolloutknowledge = 2 # 0 = pure, 1 = legal, 2 = smart\n",
    "smarttreecount = 1.0 # prior count for preferred actions in smart tree search\n",
    "smarttreevalue = 1.0 # prior value for preferred actions during smart tree search"
   ]
  },
  {
   "cell_type": "code",
   "execution_count": 17,
   "id": "6d1f0bd0-f90f-48bb-a241-b9fa90f2e398",
   "metadata": {},
   "outputs": [],
   "source": [
    "def get_init_vars(experiment_params):\n",
    "    occlusionList = [[[] for occlusionInd in experiment_params.EntropyLevels]\n",
    "                        for simulationInd in range(experiment_params.NumRuns)]\n",
    "    predatorList = [[[] for occlusionInd in experiment_params.EntropyLevels]\n",
    "                     for simulationInd in range(experiment_params.NumRuns)]\n",
    "    for simulationInd in range(experiment_params.NumRuns):\n",
    "        for i, entropyValue in enumerate(experiment_params.EntropyLevels):\n",
    "            while True and entropyValue < .8:\n",
    "                numOcclusions = 0\n",
    "                occlusions = Grid(XSize, YSize).CreateOcclusions(numOcclusions, AgentHome, GoalPos)\n",
    "                while GetEntropy(occlusions)[0] < entropyValue:\n",
    "                    #entropyMatrix = GetEntropy(occlusions)[0]\n",
    "                    #if entropyMatrix >= entropyValue:\n",
    "                    #    break\n",
    "                    occlusions = Grid(XSize, YSize).CreateOcclusions(numOcclusions, AgentHome, GoalPos)\n",
    "                    numOcclusions += 1\n",
    "                path = GetPath(occlusions)\n",
    "                if path:\n",
    "                    occlusionList[simulationInd][i] = occlusions\n",
    "                    break\n",
    "    \n",
    "            while True and entropyValue >= .8:\n",
    "                numOcclusions = 20\n",
    "                occlusions = Grid(XSize, YSize).CreateRandomOcclusions(numOcclusions, AgentHome, GoalPos)\n",
    "                while GetEntropy(occlusions)[0] < entropyValue:\n",
    "                    occlusions = Grid(XSize, YSize).CreateOcclusions(numOcclusions, AgentHome, GoalPos)\n",
    "                    numOcclusions += 1\n",
    "    \n",
    "                path = GetPath(occlusions)\n",
    "                if path:\n",
    "                    occlusionList[simulationInd][i] = occlusions\n",
    "                    break\n",
    "    \n",
    "            allPredatorLocations = Grid(XSize, YSize).CreatePredatorLocations(experiment_params.SpawnArea, AgentHome,\n",
    "                                                                      GoalPos,occlusions)\n",
    "    \n",
    "            temp_predator = [allPredatorLocations[Random(0, len(allPredatorLocations))]\n",
    "                                 for p in range(experiment_params.NumPredators)]\n",
    "            predatorList[simulationInd][i] = temp_predator\n",
    "\n",
    "    return [occlusionList, predatorList]\n",
    "\n",
    "def get_tasks(experiment_params, occlusionList, predatorList, visualRange=None, planningDir='/testpath'):\n",
    "    tasks = []\n",
    "    for simulationInd in range(experiment_params.NumRuns):\n",
    "        for occlusionInd in range(len(experiment_params.EntropyLevels)):\n",
    "            for predatorInd in range(experiment_params.NumPredators):\n",
    "                if visualRange:\n",
    "                    for visrange in visualRange:\n",
    "                        tasks.append([(occlusionInd, occlusionList[simulationInd][occlusionInd]),\n",
    "                                      (predatorInd, predatorList[simulationInd][occlusionInd][predatorInd]), visrange,\n",
    "                                      simulationInd, planningDir])\n",
    "                tasks.append([(occlusionInd, occlusionList[simulationInd][occlusionInd]),\n",
    "                        (predatorInd, predatorList[simulationInd][occlusionInd][predatorInd]), None, simulationInd, planningDir])\n",
    "    return tasks"
   ]
  },
  {
   "cell_type": "code",
   "execution_count": 7,
   "id": "d4687619-7801-4fc8-9d8f-0227060a880d",
   "metadata": {},
   "outputs": [],
   "source": [
    "exp_params = ExperimentParams()\n",
    "exp_params_old = ExperimentParamsOld()"
   ]
  },
  {
   "cell_type": "code",
   "execution_count": 8,
   "id": "968f138e-12ca-4977-8ef3-bbebc995600a",
   "metadata": {},
   "outputs": [
    {
     "name": "stdout",
     "output_type": "stream",
     "text": [
      "ExperimentParams:\n",
      "\tSpawnArea: 4\n",
      "\tNumRuns: 20\n",
      "\tNumPredators: 5\n",
      "\tNumSteps: 200\n",
      "\tSimSteps: 1000\n",
      "\tTimeOut: 36000\n",
      "\tMinDoubles: 0\n",
      "\tMaxDoubles: 50\n",
      "\tTransformDoubles: -1\n",
      "\tTransformAttempts: 1000\n",
      "\tAccuracy: 0.01\n",
      "\tUndiscountedHorizon: 100\n",
      "\tAutoExploration: True\n",
      "\tEntropyLevels: [0.0, 0.1, 0.2, 0.3, 0.4, 0.5, 0.6, 0.7, 0.8, 0.9]\n",
      "\tDepth: [100, 1000, 5000]\n",
      "\n"
     ]
    }
   ],
   "source": [
    "print(exp_params_old)"
   ]
  },
  {
   "cell_type": "code",
   "execution_count": 9,
   "id": "2d89608c-2fc3-462b-9693-846750d632e7",
   "metadata": {},
   "outputs": [],
   "source": [
    "init_vars = get_init_vars(exp_params)\n",
    "init_vars_old = get_init_vars(exp_params_old)"
   ]
  },
  {
   "cell_type": "code",
   "execution_count": 46,
   "id": "b93163c1-bfb7-405b-ac7e-b914e27f802a",
   "metadata": {},
   "outputs": [
    {
     "data": {
      "text/plain": [
       "[(0, []), (0, <coord.COORD at 0x7f81964cb150>), None, 0, '/testpath']"
      ]
     },
     "execution_count": 46,
     "metadata": {},
     "output_type": "execute_result"
    }
   ],
   "source": [
    "tasks[0]"
   ]
  },
  {
   "cell_type": "code",
   "execution_count": 47,
   "id": "e126d188-bb31-41cd-8385-4ebdfd774147",
   "metadata": {},
   "outputs": [
    {
     "data": {
      "text/plain": [
       "[(2,\n",
       "  [<coord.COORD at 0x7f81964c9d90>,\n",
       "   <coord.COORD at 0x7f81964c97d0>,\n",
       "   <coord.COORD at 0x7f81964c9590>,\n",
       "   <coord.COORD at 0x7f81964c9990>,\n",
       "   <coord.COORD at 0x7f81964c9110>,\n",
       "   <coord.COORD at 0x7f81964c9a10>,\n",
       "   <coord.COORD at 0x7f81964c9010>,\n",
       "   <coord.COORD at 0x7f81964c9310>]),\n",
       " (0, <coord.COORD at 0x7f81964c8dd0>),\n",
       " None,\n",
       " 0,\n",
       " '/testpath']"
      ]
     },
     "execution_count": 47,
     "metadata": {},
     "output_type": "execute_result"
    }
   ],
   "source": [
    "tasks[2]"
   ]
  },
  {
   "cell_type": "code",
   "execution_count": 48,
   "id": "a17ee3c9-b313-4f90-b0d7-a2d87fea48ec",
   "metadata": {},
   "outputs": [],
   "source": [
    "coords_lst = tasks[2][0][1]"
   ]
  },
  {
   "cell_type": "code",
   "execution_count": 49,
   "id": "125154f0-0869-4002-869e-3bb1194c4568",
   "metadata": {},
   "outputs": [
    {
     "data": {
      "text/plain": [
       "[<coord.COORD at 0x7f81964c9d90>,\n",
       " <coord.COORD at 0x7f81964c97d0>,\n",
       " <coord.COORD at 0x7f81964c9590>,\n",
       " <coord.COORD at 0x7f81964c9990>,\n",
       " <coord.COORD at 0x7f81964c9110>,\n",
       " <coord.COORD at 0x7f81964c9a10>,\n",
       " <coord.COORD at 0x7f81964c9010>,\n",
       " <coord.COORD at 0x7f81964c9310>]"
      ]
     },
     "execution_count": 49,
     "metadata": {},
     "output_type": "execute_result"
    }
   ],
   "source": [
    "coords_lst"
   ]
  },
  {
   "cell_type": "code",
   "execution_count": 50,
   "id": "6f27ef55-ae92-44fb-b25b-1297e3311669",
   "metadata": {},
   "outputs": [
    {
     "name": "stdout",
     "output_type": "stream",
     "text": [
      "(13;0)\n",
      "(14;0)\n",
      "(13;4)\n",
      "(13;5)\n",
      "(14;5)\n",
      "(14;6)\n",
      "(14;7)\n",
      "(10;9)\n"
     ]
    }
   ],
   "source": [
    "for coord in coords_lst:\n",
    "    print(coord)"
   ]
  },
  {
   "cell_type": "code",
   "execution_count": 51,
   "id": "1c9579f9-c353-45de-b9c5-03f07eda8877",
   "metadata": {},
   "outputs": [],
   "source": [
    "test_coord = COORD(14, 7)"
   ]
  },
  {
   "cell_type": "code",
   "execution_count": 52,
   "id": "3dc1e91b-299a-4377-82d3-ccef20063c59",
   "metadata": {},
   "outputs": [
    {
     "name": "stdout",
     "output_type": "stream",
     "text": [
      "(14;7)\n"
     ]
    }
   ],
   "source": [
    "print(test_coord)"
   ]
  },
  {
   "cell_type": "code",
   "execution_count": 53,
   "id": "cd025e35-48e2-406c-acb9-e7abd8864a83",
   "metadata": {},
   "outputs": [
    {
     "data": {
      "text/plain": [
       "True"
      ]
     },
     "execution_count": 53,
     "metadata": {},
     "output_type": "execute_result"
    }
   ],
   "source": [
    "test_coord in coords_lst"
   ]
  },
  {
   "cell_type": "code",
   "execution_count": 20,
   "id": "fe8eb8db-ac12-4a14-a712-49ae09fd8cd0",
   "metadata": {},
   "outputs": [],
   "source": [
    "tasks = get_tasks(exp_params, *init_vars_old)\n",
    "tasks_old = get_tasks(exp_params_old, *init_vars_old)"
   ]
  },
  {
   "cell_type": "code",
   "execution_count": 22,
   "id": "3d214576-a58f-4d4a-a706-e6e184d8715d",
   "metadata": {},
   "outputs": [
    {
     "data": {
      "text/plain": [
       "4"
      ]
     },
     "execution_count": 22,
     "metadata": {},
     "output_type": "execute_result"
    }
   ],
   "source": [
    "len(tasks)"
   ]
  },
  {
   "cell_type": "code",
   "execution_count": 23,
   "id": "20f96793-c0f0-4c1e-bd95-aa990834f121",
   "metadata": {},
   "outputs": [
    {
     "data": {
      "text/plain": [
       "1000"
      ]
     },
     "execution_count": 23,
     "metadata": {},
     "output_type": "execute_result"
    }
   ],
   "source": [
    "len(tasks_old)"
   ]
  },
  {
   "cell_type": "code",
   "execution_count": 25,
   "id": "5f0ec31e-0240-4010-9290-749db572c52a",
   "metadata": {},
   "outputs": [
    {
     "data": {
      "text/plain": [
       "{5}"
      ]
     },
     "execution_count": 25,
     "metadata": {},
     "output_type": "execute_result"
    }
   ],
   "source": [
    "set(len(task) for task in tasks)"
   ]
  },
  {
   "cell_type": "code",
   "execution_count": 26,
   "id": "170908a2-51e3-4e59-b85c-36aee0034c98",
   "metadata": {},
   "outputs": [
    {
     "data": {
      "text/plain": [
       "{5}"
      ]
     },
     "execution_count": 26,
     "metadata": {},
     "output_type": "execute_result"
    }
   ],
   "source": [
    "set(len(task) for task in tasks_old)"
   ]
  },
  {
   "cell_type": "code",
   "execution_count": 33,
   "id": "418d5311-5183-486a-b9aa-3b2807b83cf5",
   "metadata": {},
   "outputs": [],
   "source": [
    "currentTask = tasks_old[0]"
   ]
  },
  {
   "cell_type": "code",
   "execution_count": 35,
   "id": "7196132d-7a15-4296-88ef-b90615e541a0",
   "metadata": {},
   "outputs": [
    {
     "data": {
      "text/plain": [
       "[(0, []), (0, <coord.COORD at 0x7f81964cb150>), None, 0, '/testpath']"
      ]
     },
     "execution_count": 35,
     "metadata": {},
     "output_type": "execute_result"
    }
   ],
   "source": [
    "currentTask"
   ]
  },
  {
   "cell_type": "code",
   "execution_count": 34,
   "id": "fc32539e-4f41-45dd-8e3c-bab73c784eaf",
   "metadata": {},
   "outputs": [
    {
     "name": "stdout",
     "output_type": "stream",
     "text": [
      " Starting Simulation 0, Entropy 0.0, Predator 0, Visual Range None\n"
     ]
    }
   ],
   "source": [
    "print(\" Starting Simulation %d, Entropy 0.%d, Predator %d, Visual Range %s\"\n",
    "                            %(currentTask[3], currentTask[0][0], currentTask[1][0], str(currentTask[2])))"
   ]
  },
  {
   "cell_type": "code",
   "execution_count": 36,
   "id": "783a52af-64e7-4e0e-b18d-91c87a245b43",
   "metadata": {},
   "outputs": [],
   "source": [
    "def print_curr_task(currentTask):\n",
    "    print(\" Starting Simulation %d, Entropy 0.%d, Predator %d, Visual Range %s\"\n",
    "                            %(currentTask[3], currentTask[0][0], currentTask[1][0], str(currentTask[2])))"
   ]
  },
  {
   "cell_type": "code",
   "execution_count": 38,
   "id": "7fd61c9f-83e6-4284-8b60-29a0651c262b",
   "metadata": {},
   "outputs": [],
   "source": [
    "ct = tasks_old[890]"
   ]
  },
  {
   "cell_type": "code",
   "execution_count": 41,
   "id": "a1973a8b-4c68-4e84-acaa-f0c32243bfb3",
   "metadata": {},
   "outputs": [
    {
     "data": {
      "text/plain": [
       "8"
      ]
     },
     "execution_count": 41,
     "metadata": {},
     "output_type": "execute_result"
    }
   ],
   "source": [
    "ct[0][0]"
   ]
  },
  {
   "cell_type": "code",
   "execution_count": 37,
   "id": "c2891355-6044-4c11-a780-f5320cfdef3b",
   "metadata": {},
   "outputs": [
    {
     "name": "stdout",
     "output_type": "stream",
     "text": [
      " Starting Simulation 17, Entropy 0.8, Predator 0, Visual Range None\n"
     ]
    }
   ],
   "source": [
    "print_curr_task(tasks_old[890])"
   ]
  },
  {
   "cell_type": "code",
   "execution_count": 32,
   "id": "88c19f72-04a9-4524-9c01-cd0755532dc4",
   "metadata": {},
   "outputs": [
    {
     "name": "stdout",
     "output_type": "stream",
     "text": [
      "[(8, [<coord.COORD object at 0x7f81965617d0>, <coord.COORD object at 0x7f819655ba90>, <coord.COORD object at 0x7f819655b6d0>, <coord.COORD object at 0x7f8196559b10>, <coord.COORD object at 0x7f8196558b10>, <coord.COORD object at 0x7f8196559790>, <coord.COORD object at 0x7f8196558c50>, <coord.COORD object at 0x7f81965594d0>, <coord.COORD object at 0x7f819655a6d0>, <coord.COORD object at 0x7f819655a510>, <coord.COORD object at 0x7f8196559f50>, <coord.COORD object at 0x7f819655b090>, <coord.COORD object at 0x7f8196559950>, <coord.COORD object at 0x7f819655a410>, <coord.COORD object at 0x7f8196559150>, <coord.COORD object at 0x7f819655ab90>, <coord.COORD object at 0x7f8196559290>, <coord.COORD object at 0x7f819655a1d0>, <coord.COORD object at 0x7f81965591d0>, <coord.COORD object at 0x7f819655bc10>, <coord.COORD object at 0x7f8196558250>, <coord.COORD object at 0x7f8196568350>, <coord.COORD object at 0x7f8196568550>, <coord.COORD object at 0x7f819656aed0>, <coord.COORD object at 0x7f8196568b10>, <coord.COORD object at 0x7f819656b850>, <coord.COORD object at 0x7f819656a510>, <coord.COORD object at 0x7f8196568bd0>, <coord.COORD object at 0x7f8196568ed0>, <coord.COORD object at 0x7f8196568f90>, <coord.COORD object at 0x7f819656bc90>, <coord.COORD object at 0x7f8196568e10>, <coord.COORD object at 0x7f819656a850>, <coord.COORD object at 0x7f8196568890>, <coord.COORD object at 0x7f819656abd0>, <coord.COORD object at 0x7f819656a490>, <coord.COORD object at 0x7f819656bc50>, <coord.COORD object at 0x7f819656b110>, <coord.COORD object at 0x7f819656b5d0>, <coord.COORD object at 0x7f819656b550>, <coord.COORD object at 0x7f819656bf50>, <coord.COORD object at 0x7f819656bf10>, <coord.COORD object at 0x7f81965684d0>, <coord.COORD object at 0x7f819656bd50>, <coord.COORD object at 0x7f8196568b50>, <coord.COORD object at 0x7f819656a990>, <coord.COORD object at 0x7f8196568b90>, <coord.COORD object at 0x7f8196568410>, <coord.COORD object at 0x7f819656bc10>, <coord.COORD object at 0x7f81965688d0>, <coord.COORD object at 0x7f819656bb50>, <coord.COORD object at 0x7f8196569390>, <coord.COORD object at 0x7f8196568c50>, <coord.COORD object at 0x7f8196568110>, <coord.COORD object at 0x7f8196569d90>, <coord.COORD object at 0x7f8196568dd0>, <coord.COORD object at 0x7f819656b310>, <coord.COORD object at 0x7f819656a9d0>, <coord.COORD object at 0x7f819656b510>, <coord.COORD object at 0x7f819656b750>, <coord.COORD object at 0x7f8196568690>, <coord.COORD object at 0x7f8196568ad0>, <coord.COORD object at 0x7f819656b910>, <coord.COORD object at 0x7f8196568e90>, <coord.COORD object at 0x7f819656b3d0>, <coord.COORD object at 0x7f819656b9d0>, <coord.COORD object at 0x7f81965690d0>, <coord.COORD object at 0x7f819656ae90>, <coord.COORD object at 0x7f819656b250>]), (0, <coord.COORD object at 0x7f819656bad0>), None, 17, '/testpath']\n",
      "\n",
      "[(8, [<coord.COORD object at 0x7f81965617d0>, <coord.COORD object at 0x7f819655ba90>, <coord.COORD object at 0x7f819655b6d0>, <coord.COORD object at 0x7f8196559b10>, <coord.COORD object at 0x7f8196558b10>, <coord.COORD object at 0x7f8196559790>, <coord.COORD object at 0x7f8196558c50>, <coord.COORD object at 0x7f81965594d0>, <coord.COORD object at 0x7f819655a6d0>, <coord.COORD object at 0x7f819655a510>, <coord.COORD object at 0x7f8196559f50>, <coord.COORD object at 0x7f819655b090>, <coord.COORD object at 0x7f8196559950>, <coord.COORD object at 0x7f819655a410>, <coord.COORD object at 0x7f8196559150>, <coord.COORD object at 0x7f819655ab90>, <coord.COORD object at 0x7f8196559290>, <coord.COORD object at 0x7f819655a1d0>, <coord.COORD object at 0x7f81965591d0>, <coord.COORD object at 0x7f819655bc10>, <coord.COORD object at 0x7f8196558250>, <coord.COORD object at 0x7f8196568350>, <coord.COORD object at 0x7f8196568550>, <coord.COORD object at 0x7f819656aed0>, <coord.COORD object at 0x7f8196568b10>, <coord.COORD object at 0x7f819656b850>, <coord.COORD object at 0x7f819656a510>, <coord.COORD object at 0x7f8196568bd0>, <coord.COORD object at 0x7f8196568ed0>, <coord.COORD object at 0x7f8196568f90>, <coord.COORD object at 0x7f819656bc90>, <coord.COORD object at 0x7f8196568e10>, <coord.COORD object at 0x7f819656a850>, <coord.COORD object at 0x7f8196568890>, <coord.COORD object at 0x7f819656abd0>, <coord.COORD object at 0x7f819656a490>, <coord.COORD object at 0x7f819656bc50>, <coord.COORD object at 0x7f819656b110>, <coord.COORD object at 0x7f819656b5d0>, <coord.COORD object at 0x7f819656b550>, <coord.COORD object at 0x7f819656bf50>, <coord.COORD object at 0x7f819656bf10>, <coord.COORD object at 0x7f81965684d0>, <coord.COORD object at 0x7f819656bd50>, <coord.COORD object at 0x7f8196568b50>, <coord.COORD object at 0x7f819656a990>, <coord.COORD object at 0x7f8196568b90>, <coord.COORD object at 0x7f8196568410>, <coord.COORD object at 0x7f819656bc10>, <coord.COORD object at 0x7f81965688d0>, <coord.COORD object at 0x7f819656bb50>, <coord.COORD object at 0x7f8196569390>, <coord.COORD object at 0x7f8196568c50>, <coord.COORD object at 0x7f8196568110>, <coord.COORD object at 0x7f8196569d90>, <coord.COORD object at 0x7f8196568dd0>, <coord.COORD object at 0x7f819656b310>, <coord.COORD object at 0x7f819656a9d0>, <coord.COORD object at 0x7f819656b510>, <coord.COORD object at 0x7f819656b750>, <coord.COORD object at 0x7f8196568690>, <coord.COORD object at 0x7f8196568ad0>, <coord.COORD object at 0x7f819656b910>, <coord.COORD object at 0x7f8196568e90>, <coord.COORD object at 0x7f819656b3d0>, <coord.COORD object at 0x7f819656b9d0>, <coord.COORD object at 0x7f81965690d0>, <coord.COORD object at 0x7f819656ae90>, <coord.COORD object at 0x7f819656b250>]), (1, <coord.COORD object at 0x7f81965692d0>), None, 17, '/testpath']\n",
      "\n",
      "[(8, [<coord.COORD object at 0x7f81965617d0>, <coord.COORD object at 0x7f819655ba90>, <coord.COORD object at 0x7f819655b6d0>, <coord.COORD object at 0x7f8196559b10>, <coord.COORD object at 0x7f8196558b10>, <coord.COORD object at 0x7f8196559790>, <coord.COORD object at 0x7f8196558c50>, <coord.COORD object at 0x7f81965594d0>, <coord.COORD object at 0x7f819655a6d0>, <coord.COORD object at 0x7f819655a510>, <coord.COORD object at 0x7f8196559f50>, <coord.COORD object at 0x7f819655b090>, <coord.COORD object at 0x7f8196559950>, <coord.COORD object at 0x7f819655a410>, <coord.COORD object at 0x7f8196559150>, <coord.COORD object at 0x7f819655ab90>, <coord.COORD object at 0x7f8196559290>, <coord.COORD object at 0x7f819655a1d0>, <coord.COORD object at 0x7f81965591d0>, <coord.COORD object at 0x7f819655bc10>, <coord.COORD object at 0x7f8196558250>, <coord.COORD object at 0x7f8196568350>, <coord.COORD object at 0x7f8196568550>, <coord.COORD object at 0x7f819656aed0>, <coord.COORD object at 0x7f8196568b10>, <coord.COORD object at 0x7f819656b850>, <coord.COORD object at 0x7f819656a510>, <coord.COORD object at 0x7f8196568bd0>, <coord.COORD object at 0x7f8196568ed0>, <coord.COORD object at 0x7f8196568f90>, <coord.COORD object at 0x7f819656bc90>, <coord.COORD object at 0x7f8196568e10>, <coord.COORD object at 0x7f819656a850>, <coord.COORD object at 0x7f8196568890>, <coord.COORD object at 0x7f819656abd0>, <coord.COORD object at 0x7f819656a490>, <coord.COORD object at 0x7f819656bc50>, <coord.COORD object at 0x7f819656b110>, <coord.COORD object at 0x7f819656b5d0>, <coord.COORD object at 0x7f819656b550>, <coord.COORD object at 0x7f819656bf50>, <coord.COORD object at 0x7f819656bf10>, <coord.COORD object at 0x7f81965684d0>, <coord.COORD object at 0x7f819656bd50>, <coord.COORD object at 0x7f8196568b50>, <coord.COORD object at 0x7f819656a990>, <coord.COORD object at 0x7f8196568b90>, <coord.COORD object at 0x7f8196568410>, <coord.COORD object at 0x7f819656bc10>, <coord.COORD object at 0x7f81965688d0>, <coord.COORD object at 0x7f819656bb50>, <coord.COORD object at 0x7f8196569390>, <coord.COORD object at 0x7f8196568c50>, <coord.COORD object at 0x7f8196568110>, <coord.COORD object at 0x7f8196569d90>, <coord.COORD object at 0x7f8196568dd0>, <coord.COORD object at 0x7f819656b310>, <coord.COORD object at 0x7f819656a9d0>, <coord.COORD object at 0x7f819656b510>, <coord.COORD object at 0x7f819656b750>, <coord.COORD object at 0x7f8196568690>, <coord.COORD object at 0x7f8196568ad0>, <coord.COORD object at 0x7f819656b910>, <coord.COORD object at 0x7f8196568e90>, <coord.COORD object at 0x7f819656b3d0>, <coord.COORD object at 0x7f819656b9d0>, <coord.COORD object at 0x7f81965690d0>, <coord.COORD object at 0x7f819656ae90>, <coord.COORD object at 0x7f819656b250>]), (2, <coord.COORD object at 0x7f8196571690>), None, 17, '/testpath']\n",
      "\n",
      "[(8, [<coord.COORD object at 0x7f81965617d0>, <coord.COORD object at 0x7f819655ba90>, <coord.COORD object at 0x7f819655b6d0>, <coord.COORD object at 0x7f8196559b10>, <coord.COORD object at 0x7f8196558b10>, <coord.COORD object at 0x7f8196559790>, <coord.COORD object at 0x7f8196558c50>, <coord.COORD object at 0x7f81965594d0>, <coord.COORD object at 0x7f819655a6d0>, <coord.COORD object at 0x7f819655a510>, <coord.COORD object at 0x7f8196559f50>, <coord.COORD object at 0x7f819655b090>, <coord.COORD object at 0x7f8196559950>, <coord.COORD object at 0x7f819655a410>, <coord.COORD object at 0x7f8196559150>, <coord.COORD object at 0x7f819655ab90>, <coord.COORD object at 0x7f8196559290>, <coord.COORD object at 0x7f819655a1d0>, <coord.COORD object at 0x7f81965591d0>, <coord.COORD object at 0x7f819655bc10>, <coord.COORD object at 0x7f8196558250>, <coord.COORD object at 0x7f8196568350>, <coord.COORD object at 0x7f8196568550>, <coord.COORD object at 0x7f819656aed0>, <coord.COORD object at 0x7f8196568b10>, <coord.COORD object at 0x7f819656b850>, <coord.COORD object at 0x7f819656a510>, <coord.COORD object at 0x7f8196568bd0>, <coord.COORD object at 0x7f8196568ed0>, <coord.COORD object at 0x7f8196568f90>, <coord.COORD object at 0x7f819656bc90>, <coord.COORD object at 0x7f8196568e10>, <coord.COORD object at 0x7f819656a850>, <coord.COORD object at 0x7f8196568890>, <coord.COORD object at 0x7f819656abd0>, <coord.COORD object at 0x7f819656a490>, <coord.COORD object at 0x7f819656bc50>, <coord.COORD object at 0x7f819656b110>, <coord.COORD object at 0x7f819656b5d0>, <coord.COORD object at 0x7f819656b550>, <coord.COORD object at 0x7f819656bf50>, <coord.COORD object at 0x7f819656bf10>, <coord.COORD object at 0x7f81965684d0>, <coord.COORD object at 0x7f819656bd50>, <coord.COORD object at 0x7f8196568b50>, <coord.COORD object at 0x7f819656a990>, <coord.COORD object at 0x7f8196568b90>, <coord.COORD object at 0x7f8196568410>, <coord.COORD object at 0x7f819656bc10>, <coord.COORD object at 0x7f81965688d0>, <coord.COORD object at 0x7f819656bb50>, <coord.COORD object at 0x7f8196569390>, <coord.COORD object at 0x7f8196568c50>, <coord.COORD object at 0x7f8196568110>, <coord.COORD object at 0x7f8196569d90>, <coord.COORD object at 0x7f8196568dd0>, <coord.COORD object at 0x7f819656b310>, <coord.COORD object at 0x7f819656a9d0>, <coord.COORD object at 0x7f819656b510>, <coord.COORD object at 0x7f819656b750>, <coord.COORD object at 0x7f8196568690>, <coord.COORD object at 0x7f8196568ad0>, <coord.COORD object at 0x7f819656b910>, <coord.COORD object at 0x7f8196568e90>, <coord.COORD object at 0x7f819656b3d0>, <coord.COORD object at 0x7f819656b9d0>, <coord.COORD object at 0x7f81965690d0>, <coord.COORD object at 0x7f819656ae90>, <coord.COORD object at 0x7f819656b250>]), (3, <coord.COORD object at 0x7f8196568050>), None, 17, '/testpath']\n",
      "\n",
      "[(8, [<coord.COORD object at 0x7f81965617d0>, <coord.COORD object at 0x7f819655ba90>, <coord.COORD object at 0x7f819655b6d0>, <coord.COORD object at 0x7f8196559b10>, <coord.COORD object at 0x7f8196558b10>, <coord.COORD object at 0x7f8196559790>, <coord.COORD object at 0x7f8196558c50>, <coord.COORD object at 0x7f81965594d0>, <coord.COORD object at 0x7f819655a6d0>, <coord.COORD object at 0x7f819655a510>, <coord.COORD object at 0x7f8196559f50>, <coord.COORD object at 0x7f819655b090>, <coord.COORD object at 0x7f8196559950>, <coord.COORD object at 0x7f819655a410>, <coord.COORD object at 0x7f8196559150>, <coord.COORD object at 0x7f819655ab90>, <coord.COORD object at 0x7f8196559290>, <coord.COORD object at 0x7f819655a1d0>, <coord.COORD object at 0x7f81965591d0>, <coord.COORD object at 0x7f819655bc10>, <coord.COORD object at 0x7f8196558250>, <coord.COORD object at 0x7f8196568350>, <coord.COORD object at 0x7f8196568550>, <coord.COORD object at 0x7f819656aed0>, <coord.COORD object at 0x7f8196568b10>, <coord.COORD object at 0x7f819656b850>, <coord.COORD object at 0x7f819656a510>, <coord.COORD object at 0x7f8196568bd0>, <coord.COORD object at 0x7f8196568ed0>, <coord.COORD object at 0x7f8196568f90>, <coord.COORD object at 0x7f819656bc90>, <coord.COORD object at 0x7f8196568e10>, <coord.COORD object at 0x7f819656a850>, <coord.COORD object at 0x7f8196568890>, <coord.COORD object at 0x7f819656abd0>, <coord.COORD object at 0x7f819656a490>, <coord.COORD object at 0x7f819656bc50>, <coord.COORD object at 0x7f819656b110>, <coord.COORD object at 0x7f819656b5d0>, <coord.COORD object at 0x7f819656b550>, <coord.COORD object at 0x7f819656bf50>, <coord.COORD object at 0x7f819656bf10>, <coord.COORD object at 0x7f81965684d0>, <coord.COORD object at 0x7f819656bd50>, <coord.COORD object at 0x7f8196568b50>, <coord.COORD object at 0x7f819656a990>, <coord.COORD object at 0x7f8196568b90>, <coord.COORD object at 0x7f8196568410>, <coord.COORD object at 0x7f819656bc10>, <coord.COORD object at 0x7f81965688d0>, <coord.COORD object at 0x7f819656bb50>, <coord.COORD object at 0x7f8196569390>, <coord.COORD object at 0x7f8196568c50>, <coord.COORD object at 0x7f8196568110>, <coord.COORD object at 0x7f8196569d90>, <coord.COORD object at 0x7f8196568dd0>, <coord.COORD object at 0x7f819656b310>, <coord.COORD object at 0x7f819656a9d0>, <coord.COORD object at 0x7f819656b510>, <coord.COORD object at 0x7f819656b750>, <coord.COORD object at 0x7f8196568690>, <coord.COORD object at 0x7f8196568ad0>, <coord.COORD object at 0x7f819656b910>, <coord.COORD object at 0x7f8196568e90>, <coord.COORD object at 0x7f819656b3d0>, <coord.COORD object at 0x7f819656b9d0>, <coord.COORD object at 0x7f81965690d0>, <coord.COORD object at 0x7f819656ae90>, <coord.COORD object at 0x7f819656b250>]), (4, <coord.COORD object at 0x7f819656a7d0>), None, 17, '/testpath']\n",
      "\n"
     ]
    }
   ],
   "source": [
    "for task in tasks_old[890:895]:\n",
    "    print(task)\n",
    "    print()"
   ]
  },
  {
   "cell_type": "code",
   "execution_count": null,
   "id": "cc8e86da-42d8-4d8a-809c-bde77088d55a",
   "metadata": {},
   "outputs": [],
   "source": []
  },
  {
   "cell_type": "code",
   "execution_count": null,
   "id": "0f97800e-deb4-4438-accd-8784a8d2bf5a",
   "metadata": {},
   "outputs": [],
   "source": []
  },
  {
   "cell_type": "code",
   "execution_count": null,
   "id": "a1fa5942-2322-4d12-9d60-328d97260c9d",
   "metadata": {},
   "outputs": [],
   "source": []
  },
  {
   "cell_type": "code",
   "execution_count": null,
   "id": "7e122e5d-69c3-4352-87c1-fb27b8827314",
   "metadata": {},
   "outputs": [],
   "source": []
  },
  {
   "cell_type": "code",
   "execution_count": 11,
   "id": "c5db91e2-4a7f-4caf-939f-870731cb35c4",
   "metadata": {},
   "outputs": [
    {
     "name": "stdout",
     "output_type": "stream",
     "text": [
      "Simulation 0:\n",
      "\tEntropy Level 0.0:\n",
      "\t\tPredator Locations: ['(1;7)', '(3;5)', '(12;2)', '(1;4)', '(12;7)']\n",
      "\tEntropy Level 0.1:\n",
      "\t\tPredator Locations: ['(3;6)', '(2;12)', '(2;10)', '(10;8)', '(0;5)']\n",
      "\tEntropy Level 0.2:\n",
      "\t\tPredator Locations: ['(13;1)', '(12;10)', '(11;11)', '(0;6)', '(13;6)']\n",
      "\tEntropy Level 0.3:\n",
      "\t\tPredator Locations: ['(11;14)', '(14;6)', '(11;10)', '(10;7)', '(11;6)']\n",
      "\tEntropy Level 0.4:\n",
      "\t\tPredator Locations: ['(12;12)', '(7;12)', '(6;8)', '(1;1)', '(11;6)']\n",
      "\tEntropy Level 0.5:\n",
      "\t\tPredator Locations: ['(0;12)', '(13;6)', '(14;5)', '(11;10)', '(2;14)']\n",
      "\tEntropy Level 0.6:\n",
      "\t\tPredator Locations: ['(6;12)', '(6;8)', '(5;8)', '(0;11)', '(4;8)']\n",
      "\tEntropy Level 0.7:\n",
      "\t\tPredator Locations: ['(3;9)', '(13;4)', '(9;9)', '(9;8)', '(1;2)']\n",
      "\tEntropy Level 0.8:\n",
      "\t\tPredator Locations: ['(12;2)', '(2;0)', '(12;4)', '(8;7)', '(1;9)']\n",
      "\tEntropy Level 0.9:\n",
      "\t\tPredator Locations: ['(14;14)', '(13;14)', '(13;8)', '(1;10)', '(7;13)']\n"
     ]
    }
   ],
   "source": [
    "occlusionList, predatorList = init_vars_old\n",
    "for simulationInd in range(exp_params_old.NumRuns):\n",
    "    print(f\"Simulation {simulationInd}:\")\n",
    "    for occlusionInd, entropyLevel in enumerate(exp_params_old.EntropyLevels):\n",
    "        print(f\"\\tEntropy Level {entropyLevel}:\")\n",
    "        print(f\"\\t\\tPredator Locations: {[str(loc) for loc in predatorList[simulationInd][occlusionInd]]}\")"
   ]
  },
  {
   "cell_type": "code",
   "execution_count": null,
   "id": "551ebf75-2693-4b7b-abb4-fb6aacfd1d7a",
   "metadata": {},
   "outputs": [],
   "source": []
  },
  {
   "cell_type": "code",
   "execution_count": null,
   "id": "048b2eaf-ae4d-4d2a-8e00-7e236474efca",
   "metadata": {},
   "outputs": [],
   "source": []
  },
  {
   "cell_type": "markdown",
   "id": "51c48161-83c8-40b5-b324-e63ca09d7e2c",
   "metadata": {},
   "source": [
    "## Old Examinations"
   ]
  },
  {
   "cell_type": "code",
   "execution_count": 3,
   "id": "2fb7fdeb-96ef-44d7-8bdc-6f0bcde8a005",
   "metadata": {},
   "outputs": [],
   "source": [
    "init_vars_path = \"/projects/e32704/andy/decisionmaking/gridworld-results/initial_test/init_vars.pkl\""
   ]
  },
  {
   "cell_type": "code",
   "execution_count": 4,
   "id": "6e82f1f1-ad0f-4f97-b8fb-c1eb6058d8b1",
   "metadata": {},
   "outputs": [
    {
     "ename": "FileNotFoundError",
     "evalue": "[Errno 2] No such file or directory: '/projects/e32704/andy/decisionmaking/gridworld-results/initial_test/init_vars.pkl'",
     "output_type": "error",
     "traceback": [
      "\u001b[0;31m---------------------------------------------------------------------------\u001b[0m",
      "\u001b[0;31mFileNotFoundError\u001b[0m                         Traceback (most recent call last)",
      "Cell \u001b[0;32mIn[4], line 1\u001b[0m\n\u001b[0;32m----> 1\u001b[0m \u001b[38;5;28;01mwith\u001b[39;00m \u001b[38;5;28;43mopen\u001b[39;49m\u001b[43m(\u001b[49m\u001b[43minit_vars_path\u001b[49m\u001b[43m,\u001b[49m\u001b[43m \u001b[49m\u001b[38;5;124;43m'\u001b[39;49m\u001b[38;5;124;43mrb\u001b[39;49m\u001b[38;5;124;43m'\u001b[39;49m\u001b[43m)\u001b[49m \u001b[38;5;28;01mas\u001b[39;00m f:\n\u001b[1;32m      2\u001b[0m     init_vars \u001b[38;5;241m=\u001b[39m pkl\u001b[38;5;241m.\u001b[39mload(f)\n",
      "File \u001b[0;32m~/.conda/envs/research/lib/python3.11/site-packages/IPython/core/interactiveshell.py:324\u001b[0m, in \u001b[0;36m_modified_open\u001b[0;34m(file, *args, **kwargs)\u001b[0m\n\u001b[1;32m    317\u001b[0m \u001b[38;5;28;01mif\u001b[39;00m file \u001b[38;5;129;01min\u001b[39;00m {\u001b[38;5;241m0\u001b[39m, \u001b[38;5;241m1\u001b[39m, \u001b[38;5;241m2\u001b[39m}:\n\u001b[1;32m    318\u001b[0m     \u001b[38;5;28;01mraise\u001b[39;00m \u001b[38;5;167;01mValueError\u001b[39;00m(\n\u001b[1;32m    319\u001b[0m         \u001b[38;5;124mf\u001b[39m\u001b[38;5;124m\"\u001b[39m\u001b[38;5;124mIPython won\u001b[39m\u001b[38;5;124m'\u001b[39m\u001b[38;5;124mt let you open fd=\u001b[39m\u001b[38;5;132;01m{\u001b[39;00mfile\u001b[38;5;132;01m}\u001b[39;00m\u001b[38;5;124m by default \u001b[39m\u001b[38;5;124m\"\u001b[39m\n\u001b[1;32m    320\u001b[0m         \u001b[38;5;124m\"\u001b[39m\u001b[38;5;124mas it is likely to crash IPython. If you know what you are doing, \u001b[39m\u001b[38;5;124m\"\u001b[39m\n\u001b[1;32m    321\u001b[0m         \u001b[38;5;124m\"\u001b[39m\u001b[38;5;124myou can use builtins\u001b[39m\u001b[38;5;124m'\u001b[39m\u001b[38;5;124m open.\u001b[39m\u001b[38;5;124m\"\u001b[39m\n\u001b[1;32m    322\u001b[0m     )\n\u001b[0;32m--> 324\u001b[0m \u001b[38;5;28;01mreturn\u001b[39;00m \u001b[43mio_open\u001b[49m\u001b[43m(\u001b[49m\u001b[43mfile\u001b[49m\u001b[43m,\u001b[49m\u001b[43m \u001b[49m\u001b[38;5;241;43m*\u001b[39;49m\u001b[43margs\u001b[49m\u001b[43m,\u001b[49m\u001b[43m \u001b[49m\u001b[38;5;241;43m*\u001b[39;49m\u001b[38;5;241;43m*\u001b[39;49m\u001b[43mkwargs\u001b[49m\u001b[43m)\u001b[49m\n",
      "\u001b[0;31mFileNotFoundError\u001b[0m: [Errno 2] No such file or directory: '/projects/e32704/andy/decisionmaking/gridworld-results/initial_test/init_vars.pkl'"
     ]
    }
   ],
   "source": [
    "with open(init_vars_path, 'rb') as f:\n",
    "    init_vars = pkl.load(f)"
   ]
  },
  {
   "cell_type": "code",
   "execution_count": 9,
   "id": "9a71d3ef-5961-44d6-9238-4a1dcdcc0b82",
   "metadata": {},
   "outputs": [
    {
     "data": {
      "text/plain": [
       "list"
      ]
     },
     "execution_count": 9,
     "metadata": {},
     "output_type": "execute_result"
    }
   ],
   "source": [
    "type(init_vars)"
   ]
  },
  {
   "cell_type": "code",
   "execution_count": 10,
   "id": "3393d41a-cef7-4544-af57-a5faee71fccb",
   "metadata": {},
   "outputs": [
    {
     "data": {
      "text/plain": [
       "2"
      ]
     },
     "execution_count": 10,
     "metadata": {},
     "output_type": "execute_result"
    }
   ],
   "source": [
    "len(init_vars)"
   ]
  },
  {
   "cell_type": "code",
   "execution_count": 12,
   "id": "9afe9a10-b0c3-4a6c-887b-4a23ab6b0bbc",
   "metadata": {},
   "outputs": [
    {
     "data": {
      "text/plain": [
       "list"
      ]
     },
     "execution_count": 12,
     "metadata": {},
     "output_type": "execute_result"
    }
   ],
   "source": [
    "type(init_vars[0])"
   ]
  },
  {
   "cell_type": "code",
   "execution_count": 13,
   "id": "24fbebd8-47bd-49cf-8317-bdbc78cb48c7",
   "metadata": {},
   "outputs": [
    {
     "data": {
      "text/plain": [
       "list"
      ]
     },
     "execution_count": 13,
     "metadata": {},
     "output_type": "execute_result"
    }
   ],
   "source": [
    "type(init_vars[1])"
   ]
  },
  {
   "cell_type": "code",
   "execution_count": 14,
   "id": "17ec86bd-283e-4e51-aa32-5d4551522388",
   "metadata": {},
   "outputs": [
    {
     "data": {
      "text/plain": [
       "20"
      ]
     },
     "execution_count": 14,
     "metadata": {},
     "output_type": "execute_result"
    }
   ],
   "source": [
    "len(init_vars[0])"
   ]
  },
  {
   "cell_type": "code",
   "execution_count": 15,
   "id": "89e48898-1036-4e0f-ad70-6f2f86d540f4",
   "metadata": {},
   "outputs": [
    {
     "data": {
      "text/plain": [
       "20"
      ]
     },
     "execution_count": 15,
     "metadata": {},
     "output_type": "execute_result"
    }
   ],
   "source": [
    "len(init_vars[1])"
   ]
  },
  {
   "cell_type": "code",
   "execution_count": 17,
   "id": "963e09b2-178d-488d-b87e-0928fbe91ad0",
   "metadata": {},
   "outputs": [
    {
     "data": {
      "text/plain": [
       "list"
      ]
     },
     "execution_count": 17,
     "metadata": {},
     "output_type": "execute_result"
    }
   ],
   "source": [
    "type(init_vars[0][0])"
   ]
  },
  {
   "cell_type": "code",
   "execution_count": 19,
   "id": "1da2a19e-1126-404f-8219-2150ef22e42d",
   "metadata": {},
   "outputs": [
    {
     "data": {
      "text/plain": [
       "10"
      ]
     },
     "execution_count": 19,
     "metadata": {},
     "output_type": "execute_result"
    }
   ],
   "source": [
    "len(init_vars[0][0])"
   ]
  },
  {
   "cell_type": "code",
   "execution_count": 20,
   "id": "dcabea3a-b618-4612-bee8-f3c5f5ee0e3d",
   "metadata": {},
   "outputs": [
    {
     "data": {
      "text/plain": [
       "[]"
      ]
     },
     "execution_count": 20,
     "metadata": {},
     "output_type": "execute_result"
    }
   ],
   "source": [
    "init_vars[0][0][0]"
   ]
  },
  {
   "cell_type": "code",
   "execution_count": 21,
   "id": "8ffb84a0-b8ea-4d6d-a821-0a8edcc75348",
   "metadata": {},
   "outputs": [
    {
     "data": {
      "text/plain": [
       "[<coord.COORD at 0x7fab49f4c0d0>,\n",
       " <coord.COORD at 0x7fa97290f490>,\n",
       " <coord.COORD at 0x7fa9724e1890>]"
      ]
     },
     "execution_count": 21,
     "metadata": {},
     "output_type": "execute_result"
    }
   ],
   "source": [
    "init_vars[0][0][1]"
   ]
  },
  {
   "cell_type": "code",
   "execution_count": 22,
   "id": "0269a8d2-4835-4ee7-b536-518e5fefb132",
   "metadata": {
    "scrolled": true
   },
   "outputs": [
    {
     "data": {
      "text/plain": [
       "[<coord.COORD at 0x7fa971e17bd0>,\n",
       " <coord.COORD at 0x7fa971e17990>,\n",
       " <coord.COORD at 0x7fa971cfcdd0>,\n",
       " <coord.COORD at 0x7fa971cfd850>,\n",
       " <coord.COORD at 0x7fa971cfd610>,\n",
       " <coord.COORD at 0x7fa971cfd9d0>,\n",
       " <coord.COORD at 0x7fa971cfdd10>,\n",
       " <coord.COORD at 0x7fa971cfdd50>,\n",
       " <coord.COORD at 0x7fa971cfdd90>]"
      ]
     },
     "execution_count": 22,
     "metadata": {},
     "output_type": "execute_result"
    }
   ],
   "source": [
    "init_vars[0][0][2]"
   ]
  },
  {
   "cell_type": "code",
   "execution_count": 28,
   "id": "56465374-8598-4637-bc3b-426ff74cb6a7",
   "metadata": {},
   "outputs": [
    {
     "name": "stdout",
     "output_type": "stream",
     "text": [
      "True\n",
      "False\n",
      "False\n",
      "False\n",
      "False\n",
      "False\n",
      "False\n",
      "False\n",
      "False\n"
     ]
    }
   ],
   "source": [
    "for i, val in enumerate(init_vars[0][0]):\n",
    "    # print(type(val))\n",
    "    # print(len(val))\n",
    "    if len(val) > 0:\n",
    "        # print(val[1])\n",
    "        print(len(val) == len(set(val)))"
   ]
  },
  {
   "cell_type": "markdown",
   "id": "f21aa3c7-44d6-428a-bc6c-eb6af9d7d4d8",
   "metadata": {},
   "source": [
    "My guess is that `init_vars[0][0]` specifies the occlusions for an environment. Specifically, I believe that the second index specifies occlusions - the first index is likely some other high-level factor, since there are only two items at the first index."
   ]
  },
  {
   "cell_type": "markdown",
   "id": "e9f91738-af9e-4f0e-a144-d14a547f6bff",
   "metadata": {},
   "source": [
    "### Step through construction logic"
   ]
  },
  {
   "cell_type": "code",
   "execution_count": 6,
   "id": "e02ab0fa-247e-4c64-af63-1a7f501c3c6f",
   "metadata": {},
   "outputs": [],
   "source": [
    "XSize = 15\n",
    "YSize = 15\n",
    "AgentHome = COORD(7, 0)\n",
    "GoalPos = COORD(floor(XSize/2), YSize-1)\n",
    "visualRange = None"
   ]
  },
  {
   "cell_type": "code",
   "execution_count": 58,
   "id": "1f90e8ec-30a6-4b5b-bb8c-9f3e6fc1d165",
   "metadata": {},
   "outputs": [],
   "source": [
    "def VisualCone(self, coord, visualRange):\n",
    "    temp = []\n",
    "    for dec in range(visualRange):\n",
    "        temp.append(coord[dec, dec:(2 * visualRange - dec) + 1])\n",
    "    return [y for x in temp for y in x]  # if self.Inside(y)]"
   ]
  },
  {
   "cell_type": "code",
   "execution_count": 65,
   "id": "5d38db69-cd09-4ee6-8364-24e4385fbfed",
   "metadata": {},
   "outputs": [],
   "source": [
    "def VisualArea(self, coord, observationDirection, visualRange, pureVision=False):\n",
    "    RadiusCoordinates = []\n",
    "    for x in range(coord.X - visualRange, coord.X + visualRange + 1):\n",
    "        for y in range(coord.Y - visualRange, coord.Y + visualRange + 1):\n",
    "            if (ManhattanDistance(COORD(x, y), coord) <= 2 * visualRange):\n",
    "                RadiusCoordinates.append(COORD(x, y))\n",
    "\n",
    "    RangeCoordinates = []\n",
    "    RadiusCoordinates = np.flipud(\n",
    "        np.reshape(np.array(RadiusCoordinates), (2 * visualRange + 1, 2 * visualRange + 1)).transpose())\n",
    "    if observationDirection == COMPASS.NORTH:\n",
    "        RangeCoordinates = self.VisualCone(RadiusCoordinates, visualRange)\n",
    "\n",
    "    elif observationDirection == COMPASS.EAST:\n",
    "        RadiusCoordinates = np.flipud(RadiusCoordinates.transpose())\n",
    "        RangeCoordinates = self.VisualCone(RadiusCoordinates, visualRange)\n",
    "\n",
    "    elif observationDirection == COMPASS.WEST:\n",
    "        RadiusCoordinates = RadiusCoordinates.transpose()\n",
    "        RangeCoordinates = self.VisualCone(RadiusCoordinates, visualRange)\n",
    "\n",
    "    elif observationDirection == COMPASS.SOUTH:\n",
    "        RadiusCoordinates = np.flipud(RadiusCoordinates)\n",
    "        RangeCoordinates = self.VisualCone(RadiusCoordinates, visualRange)\n",
    "\n",
    "    assert (RangeCoordinates)\n",
    "\n",
    "    if pureVision:\n",
    "        return RangeCoordinates\n",
    "\n",
    "    for a in range(4):\n",
    "        sidePos = coord + Compass[a]\n",
    "        if sidePos not in RangeCoordinates:\n",
    "            RangeCoordinates.append(sidePos)\n",
    "\n",
    "    return RangeCoordinates"
   ]
  },
  {
   "cell_type": "code",
   "execution_count": null,
   "id": "fc04d4e4-955a-4e2c-aec5-d4c338e1be67",
   "metadata": {},
   "outputs": [],
   "source": []
  },
  {
   "cell_type": "code",
   "execution_count": 79,
   "id": "663240c8-3331-4ca9-8826-dabffb1b23c5",
   "metadata": {},
   "outputs": [
    {
     "name": "stdout",
     "output_type": "stream",
     "text": [
      "2 -5\n",
      "2 -4\n",
      "2 -3\n",
      "2 -2\n",
      "2 -1\n",
      "2 0\n",
      "2 1\n",
      "2 2\n",
      "2 3\n",
      "2 4\n",
      "2 5\n",
      "3 -5\n",
      "3 -4\n",
      "3 -3\n",
      "3 -2\n",
      "3 -1\n",
      "3 0\n",
      "3 1\n",
      "3 2\n",
      "3 3\n",
      "3 4\n",
      "3 5\n",
      "4 -5\n",
      "4 -4\n",
      "4 -3\n",
      "4 -2\n",
      "4 -1\n",
      "4 0\n",
      "4 1\n",
      "4 2\n",
      "4 3\n",
      "4 4\n",
      "4 5\n",
      "5 -5\n",
      "5 -4\n",
      "5 -3\n",
      "5 -2\n",
      "5 -1\n",
      "5 0\n",
      "5 1\n",
      "5 2\n",
      "5 3\n",
      "5 4\n",
      "5 5\n",
      "6 -5\n",
      "6 -4\n",
      "6 -3\n",
      "6 -2\n",
      "6 -1\n",
      "6 0\n",
      "6 1\n",
      "6 2\n",
      "6 3\n",
      "6 4\n",
      "6 5\n",
      "7 -5\n",
      "7 -4\n",
      "7 -3\n",
      "7 -2\n",
      "7 -1\n",
      "7 0\n",
      "7 1\n",
      "7 2\n",
      "7 3\n",
      "7 4\n",
      "7 5\n",
      "8 -5\n",
      "8 -4\n",
      "8 -3\n",
      "8 -2\n",
      "8 -1\n",
      "8 0\n",
      "8 1\n",
      "8 2\n",
      "8 3\n",
      "8 4\n",
      "8 5\n",
      "9 -5\n",
      "9 -4\n",
      "9 -3\n",
      "9 -2\n",
      "9 -1\n",
      "9 0\n",
      "9 1\n",
      "9 2\n",
      "9 3\n",
      "9 4\n",
      "9 5\n",
      "10 -5\n",
      "10 -4\n",
      "10 -3\n",
      "10 -2\n",
      "10 -1\n",
      "10 0\n",
      "10 1\n",
      "10 2\n",
      "10 3\n",
      "10 4\n",
      "10 5\n",
      "11 -5\n",
      "11 -4\n",
      "11 -3\n",
      "11 -2\n",
      "11 -1\n",
      "11 0\n",
      "11 1\n",
      "11 2\n",
      "11 3\n",
      "11 4\n",
      "11 5\n",
      "12 -5\n",
      "12 -4\n",
      "12 -3\n",
      "12 -2\n",
      "12 -1\n",
      "12 0\n",
      "12 1\n",
      "12 2\n",
      "12 3\n",
      "12 4\n",
      "12 5\n"
     ]
    }
   ],
   "source": [
    "observationDirection = COMPASS.NORTH\n",
    "RadiusCoordinates = []\n",
    "for x in range(coord.X - visualRange, coord.X + visualRange + 1):\n",
    "    for y in range(coord.Y - visualRange, coord.Y + visualRange + 1):\n",
    "        print(x, y)\n",
    "        if (ManhattanDistance(COORD(x, y), coord) <= 2 * visualRange):\n",
    "            RadiusCoordinates.append(COORD(x, y))\n",
    "\n",
    "# RangeCoordinates = []\n",
    "# RadiusCoordinates = np.flipud(\n",
    "#     np.reshape(np.array(RadiusCoordinates), (2 * visualRange + 1, 2 * visualRange + 1)).transpose())\n",
    "# if observationDirection == COMPASS.NORTH:\n",
    "#     RangeCoordinates = self.VisualCone(RadiusCoordinates, visualRange)\n",
    "\n",
    "# elif observationDirection == COMPASS.EAST:\n",
    "#     RadiusCoordinates = np.flipud(RadiusCoordinates.transpose())\n",
    "#     RangeCoordinates = self.VisualCone(RadiusCoordinates, visualRange)\n",
    "\n",
    "# elif observationDirection == COMPASS.WEST:\n",
    "#     RadiusCoordinates = RadiusCoordinates.transpose()\n",
    "#     RangeCoordinates = self.VisualCone(RadiusCoordinates, visualRange)\n",
    "\n",
    "# elif observationDirection == COMPASS.SOUTH:\n",
    "#     RadiusCoordinates = np.flipud(RadiusCoordinates)\n",
    "#     RangeCoordinates = self.VisualCone(RadiusCoordinates, visualRange)\n",
    "\n",
    "# assert (RangeCoordinates)\n",
    "\n",
    "# if pureVision:\n",
    "#     return RangeCoordinates\n",
    "\n",
    "# for a in range(4):\n",
    "#     sidePos = coord + Compass[a]\n",
    "#     if sidePos not in RangeCoordinates:\n",
    "#         RangeCoordinates.append(sidePos)\n",
    "\n",
    "# return RangeCoordinates"
   ]
  },
  {
   "cell_type": "code",
   "execution_count": null,
   "id": "6eb5b027-6ab9-41a2-bb9c-2e48203f8fe3",
   "metadata": {},
   "outputs": [],
   "source": []
  },
  {
   "cell_type": "code",
   "execution_count": 60,
   "id": "d0a1f0bb-184a-4fc2-bd17-c3ac923f4ee2",
   "metadata": {},
   "outputs": [],
   "source": [
    "visualRange = 5"
   ]
  },
  {
   "cell_type": "code",
   "execution_count": 62,
   "id": "45ab801b-4e34-43b9-999f-a1b219476a8c",
   "metadata": {},
   "outputs": [],
   "source": [
    "coord = AgentHome"
   ]
  },
  {
   "cell_type": "code",
   "execution_count": 63,
   "id": "2df76954-291d-4914-a353-c76812ed0e1f",
   "metadata": {},
   "outputs": [
    {
     "ename": "TypeError",
     "evalue": "'COORD' object is not subscriptable",
     "output_type": "error",
     "traceback": [
      "\u001b[0;31m---------------------------------------------------------------------------\u001b[0m",
      "\u001b[0;31mTypeError\u001b[0m                                 Traceback (most recent call last)",
      "Cell \u001b[0;32mIn[63], line 3\u001b[0m\n\u001b[1;32m      1\u001b[0m temp \u001b[38;5;241m=\u001b[39m []\n\u001b[1;32m      2\u001b[0m \u001b[38;5;28;01mfor\u001b[39;00m dec \u001b[38;5;129;01min\u001b[39;00m \u001b[38;5;28mrange\u001b[39m(visualRange):\n\u001b[0;32m----> 3\u001b[0m     temp\u001b[38;5;241m.\u001b[39mappend(\u001b[43mcoord\u001b[49m\u001b[43m[\u001b[49m\u001b[43mdec\u001b[49m\u001b[43m,\u001b[49m\u001b[43m \u001b[49m\u001b[43mdec\u001b[49m\u001b[43m:\u001b[49m\u001b[43m(\u001b[49m\u001b[38;5;241;43m2\u001b[39;49m\u001b[43m \u001b[49m\u001b[38;5;241;43m*\u001b[39;49m\u001b[43m \u001b[49m\u001b[43mvisualRange\u001b[49m\u001b[43m \u001b[49m\u001b[38;5;241;43m-\u001b[39;49m\u001b[43m \u001b[49m\u001b[43mdec\u001b[49m\u001b[43m)\u001b[49m\u001b[43m \u001b[49m\u001b[38;5;241;43m+\u001b[39;49m\u001b[43m \u001b[49m\u001b[38;5;241;43m1\u001b[39;49m\u001b[43m]\u001b[49m)\n\u001b[1;32m      4\u001b[0m \u001b[38;5;28;01mreturn\u001b[39;00m [y \u001b[38;5;28;01mfor\u001b[39;00m x \u001b[38;5;129;01min\u001b[39;00m temp \u001b[38;5;28;01mfor\u001b[39;00m y \u001b[38;5;129;01min\u001b[39;00m x]  \u001b[38;5;66;03m# if self.Inside(y)]\u001b[39;00m\n",
      "\u001b[0;31mTypeError\u001b[0m: 'COORD' object is not subscriptable"
     ]
    }
   ],
   "source": [
    "temp = []\n",
    "for dec in range(visualRange):\n",
    "    temp.append(coord[dec, dec:(2 * visualRange - dec) + 1])\n",
    "return [y for x in temp for y in x]  # if self.Inside(y)]"
   ]
  },
  {
   "cell_type": "code",
   "execution_count": 43,
   "id": "620a7ef3-9a10-4219-8dd3-62a5de386fa1",
   "metadata": {},
   "outputs": [],
   "source": [
    "occlusions = Grid(XSize, YSize).CreateOcclusions(numOcclusions, AgentHome, GoalPos)"
   ]
  },
  {
   "cell_type": "code",
   "execution_count": 7,
   "id": "496b38b5-8709-435c-b7fa-9f14350a30f5",
   "metadata": {},
   "outputs": [],
   "source": [
    "def GetEntropy(occlusions):\n",
    "    I = np.zeros((XSize, YSize))\n",
    "    for coord in occlusions:\n",
    "        I[coord.X, coord.Y] = 1\n",
    "    entropy = Entropy(I)\n",
    "    outputMatrix = entropy.MovingWindowFilter(entropy.MovingAverage, 1)\n",
    "    filteredMatrices = [outputMatrix]\n",
    "    profile = entropy.Profile(filteredMatrices)\n",
    "\n",
    "    return profile"
   ]
  },
  {
   "cell_type": "code",
   "execution_count": 11,
   "id": "c02e11d1-a855-490f-b132-16609548cf39",
   "metadata": {},
   "outputs": [],
   "source": [
    "def GetPath(occlusions):\n",
    "    ASTAR = AStar(XSize, YSize, occlusions)\n",
    "    ASTAR.InitializeGrid(AgentHome, GoalPos)\n",
    "    path = ASTAR.Solve()\n",
    "\n",
    "    return path"
   ]
  },
  {
   "cell_type": "code",
   "execution_count": 12,
   "id": "bf7d05e9-6dbb-48ae-b9c8-3d46d15a2ea7",
   "metadata": {},
   "outputs": [],
   "source": [
    "occlusionList = [[[] for occlusionInd in ExperimentParams.EntropyLevels]\n",
    "                        for simulationInd in range(ExperimentParams.NumRuns)]\n",
    "predatorList = [[[] for occlusionInd in ExperimentParams.EntropyLevels]\n",
    "                 for simulationInd in range(ExperimentParams.NumRuns)]\n",
    "for simulationInd in range(ExperimentParams.NumRuns):\n",
    "    for i, entropyValue in enumerate(ExperimentParams.EntropyLevels):\n",
    "        while True and entropyValue < .8:\n",
    "            numOcclusions = 0\n",
    "            occlusions = Grid(XSize, YSize).CreateOcclusions(numOcclusions, AgentHome, GoalPos)\n",
    "            while GetEntropy(occlusions)[0] < entropyValue:\n",
    "                #entropyMatrix = GetEntropy(occlusions)[0]\n",
    "                #if entropyMatrix >= entropyValue:\n",
    "                #    break\n",
    "                occlusions = Grid(XSize, YSize).CreateOcclusions(numOcclusions, AgentHome, GoalPos)\n",
    "                numOcclusions += 1\n",
    "            path = GetPath(occlusions)\n",
    "            if path:\n",
    "                occlusionList[simulationInd][i] = occlusions\n",
    "                break\n",
    "\n",
    "        while True and entropyValue >= .8:\n",
    "            numOcclusions = 20\n",
    "            occlusions = Grid(XSize, YSize).CreateRandomOcclusions(numOcclusions, AgentHome, GoalPos)\n",
    "            while GetEntropy(occlusions)[0] < entropyValue:\n",
    "                occlusions = Grid(XSize, YSize).CreateOcclusions(numOcclusions, AgentHome, GoalPos)\n",
    "                numOcclusions += 1\n",
    "\n",
    "            path = GetPath(occlusions)\n",
    "            if path:\n",
    "                occlusionList[simulationInd][i] = occlusions\n",
    "                break\n",
    "\n",
    "        allPredatorLocations = Grid(XSize, YSize).CreatePredatorLocations(ExperimentParams.SpawnArea, AgentHome,\n",
    "                                                                  GoalPos,occlusions)\n",
    "\n",
    "        temp_predator = [allPredatorLocations[Random(0, len(allPredatorLocations))]\n",
    "                             for p in range(ExperimentParams.NumPredators)]\n",
    "        predatorList[simulationInd][i] = temp_predator"
   ]
  },
  {
   "cell_type": "code",
   "execution_count": null,
   "id": "7d98db33-e77f-4e52-97e9-62cd72eae4d9",
   "metadata": {},
   "outputs": [],
   "source": []
  },
  {
   "cell_type": "code",
   "execution_count": null,
   "id": "574c88ec-b317-4e73-a07a-937ed34955bd",
   "metadata": {},
   "outputs": [],
   "source": []
  },
  {
   "cell_type": "markdown",
   "id": "59d28fba-2d79-4d84-854c-93266d32fccd",
   "metadata": {},
   "source": [
    "### Notes\n",
    "\n",
    "Each of `occlusionList` and `predatorList` is a list, and specifically a 2d list where the outer list represents the number of simulation runs (`ExperimentParams.NumRuns`, 20 runs) and the inner list represents different entropy levels (`ExperimentParams.EntropyLevels`, 10 levels).\n",
    "\n",
    "A unique set of occlusions is generated for \n",
    "\n",
    "\n",
    "\n",
    "* index 0 corresponds with two lists - 0 is the occlusionList, and 1 is the predatorList\n",
    "* "
   ]
  },
  {
   "cell_type": "code",
   "execution_count": null,
   "id": "6e108575-3b51-4484-add8-d09efdd849d4",
   "metadata": {},
   "outputs": [],
   "source": []
  }
 ],
 "metadata": {
  "kernelspec": {
   "display_name": "Python (research)",
   "language": "python",
   "name": "research"
  },
  "language_info": {
   "codemirror_mode": {
    "name": "ipython",
    "version": 3
   },
   "file_extension": ".py",
   "mimetype": "text/x-python",
   "name": "python",
   "nbconvert_exporter": "python",
   "pygments_lexer": "ipython3",
   "version": "3.11.9"
  }
 },
 "nbformat": 4,
 "nbformat_minor": 5
}
